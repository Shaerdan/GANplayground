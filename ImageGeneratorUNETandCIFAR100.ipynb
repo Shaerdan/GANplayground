{
 "cells": [
  {
   "cell_type": "code",
   "execution_count": 8,
   "metadata": {},
   "outputs": [
    {
     "name": "stdout",
     "output_type": "stream",
     "text": [
      "Files already downloaded and verified\n",
      "torch.Size([3, 32, 32])\n"
     ]
    },
    {
     "data": {
      "image/png": "[encoded data removed]",
      "text/plain": [
       "<Figure size 432x288 with 1 Axes>"
      ]
     },
     "metadata": {
      "needs_background": "light"
     },
     "output_type": "display_data"
    }
   ],
   "source": [
    "import torch\n",
    "import torch.nn as nn\n",
    "import torch.nn.functional as F\n",
    "import torch.optim as optim\n",
    "import torchvision.datasets as datasets\n",
    "import torchvision.transforms as transforms\n",
    "import matplotlib.pyplot as plt\n",
    "\n",
    "\n",
    "# Define the transforms to be applied to the images\n",
    "transform = transforms.Compose(\n",
    "    [transforms.ToTensor()] # Normalize with mean and std\n",
    ")\n",
    "\n",
    "# Load the training dataset\n",
    "batch_size = 32\n",
    "trainset = datasets.CIFAR100(root='./data', train=True,\n",
    "                                        download=True, transform=transform)\n",
    "\n",
    "# Create a data loader for the training dataset\n",
    "trainloader = torch.utils.data.DataLoader(trainset, batch_size=batch_size,\n",
    "                                          shuffle=False)\n",
    "\n",
    "# Get one or two images from the training set\n",
    "image, label = trainset[0]\n",
    "print(image.shape)\n",
    "image = image.permute(1, 2, 0)\n",
    "\n",
    "# Visualize the image\n",
    "plt.imshow(image, cmap='gray')\n",
    "plt.title('Label: {}'.format(label))\n",
    "plt.show()\n",
    "        \n",
    "image_size_x = 32\n",
    "image_size_y = 32 \n",
    "num_channels = 3\n"
   ]
  },
  {
   "cell_type": "code",
   "execution_count": 9,
   "metadata": {},
   "outputs": [],
   "source": [
    "real_datasize = image_size_x*image_size_y*num_channels # a sample in the trainset is a square image of 32*32, and 3 color channels.\n",
    "input_noise_size = 100;\n",
    "\n",
    "class UNet(nn.Module):\n",
    "    def __init__(self, in_channels=3):\n",
    "        super(UNet, self).__init__()\n",
    "        \n",
    "        # Downsample layers\n",
    "        self.conv1 = DoubleConv(in_channels, 24)\n",
    "        self.pool1 = nn.MaxPool2d(kernel_size=2, stride=2)\n",
    "        self.conv2 = DoubleConv(24, 48)\n",
    "        self.pool2 = nn.MaxPool2d(kernel_size=2, stride=2)\n",
    "        self.conv3 = DoubleConv(48, 96)\n",
    "        self.pool3 = nn.MaxPool2d(kernel_size=2, stride=2)\n",
    "        self.conv4 = DoubleConv(96, 192)\n",
    "        self.pool4 = nn.MaxPool2d(kernel_size=2, stride=2)\n",
    "        \n",
    "        # Upsample layers\n",
    "        self.up5 = nn.ConvTranspose2d(192, 96, kernel_size=2, stride=2)\n",
    "        self.conv5 = DoubleConv(192, 96)\n",
    "        self.up6 = nn.ConvTranspose2d(96, 48, kernel_size=2, stride=2)\n",
    "        self.conv6 = DoubleConv(96, 48)\n",
    "        self.up7 = nn.ConvTranspose2d(48, 24, kernel_size=2, stride=2)\n",
    "        self.conv7 = DoubleConv(48, 24)\n",
    "        \n",
    "        # Output layer\n",
    "        self.out = nn.Conv2d(24, in_channels, kernel_size=1)\n",
    "        \n",
    "    def forward(self, x):\n",
    "        # Downsample\n",
    "        x1 = self.conv1(x)\n",
    "        x2 = self.pool1(x1)\n",
    "        #print(f\"x2 is {x2.shape}\")\n",
    "        x2 = self.conv2(x2)\n",
    "        x3 = self.pool2(x2)\n",
    "        x3 = self.conv3(x3)\n",
    "        x4 = self.pool3(x3)\n",
    "        x4 = self.conv4(x4)  \n",
    "        #print(f\"x4 is {x4.shape}\")\n",
    "              \n",
    "        # Upsample\n",
    "        x5 = self.up5(x4)\n",
    "        #print(f\"x5 is {x5.shape}\")\n",
    "        #print(f\"x3 is {x3.shape}\")        \n",
    "        x5 = torch.cat([x5, x3], dim=1)\n",
    "        x5 = self.conv5(x5)\n",
    "        x6 = self.up6(x5)\n",
    "        x6 = torch.cat([x6, x2], dim=1)\n",
    "        x6 = self.conv6(x6)\n",
    "        x7 = self.up7(x6)\n",
    "        x7 = torch.cat([x7, x1], dim=1)\n",
    "        x7 = self.conv7(x7)\n",
    "        \n",
    "        # Output\n",
    "        out = self.out(x7)\n",
    "        return out\n",
    "\n",
    "class DoubleConv(nn.Module):\n",
    "    \"\"\"(convolution => [BN] => ReLU) * 2\"\"\"\n",
    "\n",
    "    def __init__(self, in_channels, out_channels):\n",
    "        super().__init__()\n",
    "        self.double_conv = nn.Sequential(\n",
    "            nn.Conv2d(in_channels, out_channels, kernel_size=3, padding=1),\n",
    "            nn.BatchNorm2d(out_channels),\n",
    "            nn.ReLU(inplace=True),\n",
    "            nn.Conv2d(out_channels, out_channels, kernel_size=3, padding=1),\n",
    "            nn.BatchNorm2d(out_channels),\n",
    "            nn.ReLU(inplace=True)\n",
    "        )\n",
    "\n",
    "    def forward(self, x):\n",
    "        return self.double_conv(x)\n",
    "\n",
    "\n",
    "class Discriminator(nn.Module):\n",
    "    def __init__(self, num_channels):\n",
    "        super(Discriminator, self).__init__()\n",
    "        self.model = nn.Sequential(        \n",
    "                    nn.Conv2d(num_channels, 4, 3, 1, 1),\n",
    "                    nn.Conv2d(4, 8, 3, 2, 1),\n",
    "                    nn.Conv2d(8, 16, 3, 2, 1),\n",
    "                    nn.Conv2d(16, 32, 3, 2, 1),\n",
    "                    nn.Conv2d(32, 64, 3, 2, 1),\n",
    "                    nn.Flatten(),\n",
    "                    nn.Linear(64 * 2 * 2, 128),\n",
    "                    nn.Linear(128, 1),\n",
    "                    nn.LeakyReLU(0.2),\n",
    "                    nn.Sigmoid(),\n",
    "        )\n",
    "\n",
    "    def forward(self, x):\n",
    "        x = self.model(x)\n",
    "        return x\n",
    "\n",
    "\n",
    "# Define the loss function\n",
    "#criterion = nn.BCELoss()\n",
    "\n",
    "# Define the optimizers\n",
    "lr_dis = 0.0001\n",
    "lr_gen = 0.00005\n",
    "beta1 = 0.5\n",
    "beta2 = 0.999\n",
    "\n",
    "# define the models:\n",
    "generator = UNet()\n",
    "discriminator = Discriminator(num_channels=3)\n",
    "\n",
    "# Define the loss function and optimizer for the discriminator\n",
    "criterion_D = nn.BCELoss()\n",
    "\n",
    "# Define the loss function and optimizer for the generator\n",
    "criterion_G = nn.BCELoss()\n",
    "\n",
    "# Create the generator optimizer\n",
    "optimizer_G = torch.optim.SGD(generator.parameters(), lr=lr_gen)\n",
    "\n",
    "# Create the discriminator optimizer\n",
    "optimizer_D = torch.optim.SGD(discriminator.parameters(), lr=lr_dis)\n"
   ]
  },
  {
   "cell_type": "code",
   "execution_count": 10,
   "metadata": {},
   "outputs": [
    {
     "name": "stdout",
     "output_type": "stream",
     "text": [
      "debug chk\n",
      "Iteration 0 Epoch 0: D Loss = 1.3886082172393799, G Loss = 0.6992915868759155 \n",
      "Iteration 2 Epoch 0: D Loss = 1.3881535530090332, G Loss = 0.6992853879928589 \n",
      "Iteration 4 Epoch 0: D Loss = 1.3882784843444824, G Loss = 0.6990859508514404 \n",
      "Iteration 6 Epoch 0: D Loss = 1.388383150100708, G Loss = 0.6992931365966797 \n",
      "Iteration 8 Epoch 0: D Loss = 1.3882523775100708, G Loss = 0.6993624567985535 \n",
      "Iteration 10 Epoch 0: D Loss = 1.3881700038909912, G Loss = 0.6992618441581726 \n",
      "Iteration 12 Epoch 0: D Loss = 1.388381004333496, G Loss = 0.6994404196739197 \n",
      "Iteration 14 Epoch 0: D Loss = 1.3884358406066895, G Loss = 0.6996829509735107 \n",
      "Iteration 16 Epoch 0: D Loss = 1.3882317543029785, G Loss = 0.6994028091430664 \n",
      "Iteration 18 Epoch 0: D Loss = 1.3883107900619507, G Loss = 0.6994067430496216 \n",
      "Iteration 20 Epoch 0: D Loss = 1.3881216049194336, G Loss = 0.6993180513381958 \n",
      "Iteration 22 Epoch 0: D Loss = 1.3883062601089478, G Loss = 0.6992512345314026 \n",
      "Iteration 24 Epoch 0: D Loss = 1.3880681991577148, G Loss = 0.6991320252418518 \n",
      "Iteration 26 Epoch 0: D Loss = 1.3882684707641602, G Loss = 0.6993328332901001 \n",
      "Iteration 28 Epoch 0: D Loss = 1.388269305229187, G Loss = 0.6992476582527161 \n",
      "Iteration 30 Epoch 0: D Loss = 1.3884708881378174, G Loss = 0.6992648243904114 \n",
      "Iteration 32 Epoch 0: D Loss = 1.388105869293213, G Loss = 0.6992837190628052 \n",
      "Iteration 34 Epoch 0: D Loss = 1.388208270072937, G Loss = 0.6994445323944092 \n",
      "Iteration 36 Epoch 0: D Loss = 1.3882570266723633, G Loss = 0.6994233131408691 \n",
      "Iteration 38 Epoch 0: D Loss = 1.3882757425308228, G Loss = 0.6992567777633667 \n",
      "Iteration 40 Epoch 0: D Loss = 1.3882060050964355, G Loss = 0.6994388699531555 \n",
      "Iteration 42 Epoch 0: D Loss = 1.3884692192077637, G Loss = 0.699332594871521 \n"
     ]
    },
    {
     "ename": "KeyboardInterrupt",
     "evalue": "",
     "output_type": "error",
     "traceback": [
      "\u001b[1;31m---------------------------------------------------------------------------\u001b[0m",
      "\u001b[1;31mKeyboardInterrupt\u001b[0m                         Traceback (most recent call last)",
      "\u001b[1;32mc:\\GitHub\\GAN\\ImageGeneratorUNETandCIFAR100.ipynb Cell 3\u001b[0m in \u001b[0;36m<cell line: 3>\u001b[1;34m()\u001b[0m\n\u001b[0;32m     <a href='vscode-notebook-cell:/c%3A/GitHub/GAN/ImageGeneratorUNETandCIFAR100.ipynb#W2sZmlsZQ%3D%3D?line=24'>25</a>\u001b[0m fake_images \u001b[39m=\u001b[39m generator(noise_input_G)\n\u001b[0;32m     <a href='vscode-notebook-cell:/c%3A/GitHub/GAN/ImageGeneratorUNETandCIFAR100.ipynb#W2sZmlsZQ%3D%3D?line=25'>26</a>\u001b[0m generator_loss \u001b[39m=\u001b[39m criterion_G(discriminator(fake_images), real_labels)\n\u001b[1;32m---> <a href='vscode-notebook-cell:/c%3A/GitHub/GAN/ImageGeneratorUNETandCIFAR100.ipynb#W2sZmlsZQ%3D%3D?line=26'>27</a>\u001b[0m generator_loss\u001b[39m.\u001b[39;49mbackward()\n\u001b[0;32m     <a href='vscode-notebook-cell:/c%3A/GitHub/GAN/ImageGeneratorUNETandCIFAR100.ipynb#W2sZmlsZQ%3D%3D?line=27'>28</a>\u001b[0m optimizer_G\u001b[39m.\u001b[39mstep()\n\u001b[0;32m     <a href='vscode-notebook-cell:/c%3A/GitHub/GAN/ImageGeneratorUNETandCIFAR100.ipynb#W2sZmlsZQ%3D%3D?line=29'>30</a>\u001b[0m \u001b[39mif\u001b[39;00m i \u001b[39m%\u001b[39m \u001b[39m2\u001b[39m \u001b[39m==\u001b[39m \u001b[39m0\u001b[39m:\n",
      "File \u001b[1;32m~\\AppData\\Local\\Packages\\PythonSoftwareFoundation.Python.3.9_qbz5n2kfra8p0\\LocalCache\\local-packages\\Python39\\site-packages\\torch\\_tensor.py:255\u001b[0m, in \u001b[0;36mTensor.backward\u001b[1;34m(self, gradient, retain_graph, create_graph, inputs)\u001b[0m\n\u001b[0;32m    246\u001b[0m \u001b[39mif\u001b[39;00m has_torch_function_unary(\u001b[39mself\u001b[39m):\n\u001b[0;32m    247\u001b[0m     \u001b[39mreturn\u001b[39;00m handle_torch_function(\n\u001b[0;32m    248\u001b[0m         Tensor\u001b[39m.\u001b[39mbackward,\n\u001b[0;32m    249\u001b[0m         (\u001b[39mself\u001b[39m,),\n\u001b[1;32m   (...)\u001b[0m\n\u001b[0;32m    253\u001b[0m         create_graph\u001b[39m=\u001b[39mcreate_graph,\n\u001b[0;32m    254\u001b[0m         inputs\u001b[39m=\u001b[39minputs)\n\u001b[1;32m--> 255\u001b[0m torch\u001b[39m.\u001b[39;49mautograd\u001b[39m.\u001b[39;49mbackward(\u001b[39mself\u001b[39;49m, gradient, retain_graph, create_graph, inputs\u001b[39m=\u001b[39;49minputs)\n",
      "File \u001b[1;32m~\\AppData\\Local\\Packages\\PythonSoftwareFoundation.Python.3.9_qbz5n2kfra8p0\\LocalCache\\local-packages\\Python39\\site-packages\\torch\\autograd\\__init__.py:147\u001b[0m, in \u001b[0;36mbackward\u001b[1;34m(tensors, grad_tensors, retain_graph, create_graph, grad_variables, inputs)\u001b[0m\n\u001b[0;32m    144\u001b[0m \u001b[39mif\u001b[39;00m retain_graph \u001b[39mis\u001b[39;00m \u001b[39mNone\u001b[39;00m:\n\u001b[0;32m    145\u001b[0m     retain_graph \u001b[39m=\u001b[39m create_graph\n\u001b[1;32m--> 147\u001b[0m Variable\u001b[39m.\u001b[39;49m_execution_engine\u001b[39m.\u001b[39;49mrun_backward(\n\u001b[0;32m    148\u001b[0m     tensors, grad_tensors_, retain_graph, create_graph, inputs,\n\u001b[0;32m    149\u001b[0m     allow_unreachable\u001b[39m=\u001b[39;49m\u001b[39mTrue\u001b[39;49;00m, accumulate_grad\u001b[39m=\u001b[39;49m\u001b[39mTrue\u001b[39;49;00m)\n",
      "\u001b[1;31mKeyboardInterrupt\u001b[0m: "
     ]
    }
   ],
   "source": [
    "num_epochs = 30\n",
    "print(\"debug chk\")\n",
    "for epoch in range(num_epochs):\n",
    "    for i, (images, _) in enumerate(trainloader):\n",
    "        # Train the discriminator\n",
    "        discriminator.zero_grad()\n",
    "        real_images = images\n",
    "        #print(f\"size of real_images is {real_images.shape}\")        \n",
    "        real_labels = torch.ones(batch_size, 1)\n",
    "        noise_input_D = torch.randn(batch_size, 3, 32,32)\n",
    "        fake_images = generator(noise_input_D).detach()\n",
    "        #print(f\"size of fake_images is {fake_images.shape}\")\n",
    "        fake_labels = torch.zeros(batch_size, 1)\n",
    "        inputchk = discriminator(real_images)\n",
    "        #print(inputchk.shape)\n",
    "        discriminator_loss_real = criterion_D(discriminator(real_images), real_labels)\n",
    "        discriminator_loss_fake = criterion_D(discriminator(fake_images), fake_labels)\n",
    "        discriminator_loss = discriminator_loss_real + discriminator_loss_fake\n",
    "        discriminator_loss.backward()\n",
    "        optimizer_D.step()\n",
    "\n",
    "        # Train the generator\n",
    "        generator.zero_grad()\n",
    "        noise_input_G = torch.randn(batch_size, 3, 32,32)        \n",
    "        fake_images = generator(noise_input_G)\n",
    "        generator_loss = criterion_G(discriminator(fake_images), real_labels)\n",
    "        generator_loss.backward()\n",
    "        optimizer_G.step()\n",
    "\n",
    "        if i % 2 == 0:\n",
    "            print(f\"Iteration {i} Epoch {epoch}: D Loss = {discriminator_loss}, G Loss = {generator_loss} \")\n",
    "            \n",
    "        if abs(i-len(trainloader)) <= batch_size:\n",
    "            break          "
   ]
  },
  {
   "cell_type": "code",
   "execution_count": null,
   "metadata": {},
   "outputs": [],
   "source": [
    "torch.save(generator.state_dict(), \"generator.pth\")\n",
    "torch.save(discriminator.state_dict(), \"discriminator.pth\")     "
   ]
  },
  {
   "cell_type": "code",
   "execution_count": null,
   "metadata": {},
   "outputs": [
    {
     "name": "stderr",
     "output_type": "stream",
     "text": [
      "Clipping input data to the valid range for imshow with RGB data ([0..1] for floats or [0..255] for integers).\n"
     ]
    },
    {
     "name": "stdout",
     "output_type": "stream",
     "text": [
      "torch.Size([32, 32, 3])\n"
     ]
    },
    {
     "data": {
      "image/png": "[encoded data removed]",
      "text/plain": [
       "<Figure size 432x288 with 1 Axes>"
      ]
     },
     "metadata": {
      "needs_background": "light"
     },
     "output_type": "display_data"
    }
   ],
   "source": [
    "\n",
    "# Generate some images\n",
    "with torch.no_grad():\n",
    "    noise_input_test = torch.randn(1, 3, 32,32)   \n",
    "    generated_images = generator(noise_input_test)\n",
    "    image_for_plot = generated_images.squeeze()\n",
    "    image_for_plot = image_for_plot.permute(1, 2, 0)\n",
    "print(image_for_plot.shape)\n",
    "plt.imshow(image_for_plot,cmap='gray')\n",
    "plt.show()\n"
   ]
  }
 ],
 "metadata": {
  "kernelspec": {
   "display_name": "Python 3",
   "language": "python",
   "name": "python3"
  },
  "language_info": {
   "codemirror_mode": {
    "name": "ipython",
    "version": 3
   },
   "file_extension": ".py",
   "mimetype": "text/x-python",
   "name": "python",
   "nbconvert_exporter": "python",
   "pygments_lexer": "ipython3",
   "version": "3.9.13"
  },
  "orig_nbformat": 4,
  "vscode": {
   "interpreter": {
    "hash": "3ea948a86ffb9cb8476bbf8b2af39eb17488da6e229f09db40f40f089fac991a"
   }
  }
 },
 "nbformat": 4,
 "nbformat_minor": 2
}
